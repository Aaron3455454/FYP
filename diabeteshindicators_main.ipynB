{
 "cells": [
  {
   "cell_type": "code",
   "execution_count": 2,
   "metadata": {},
   "outputs": [],
   "source": [
    "import matplotlib.pyplot as plt\n",
    "import numpy as np\n",
    "import pandas as pd\n",
    "import matplotlib.ticker as ticker\n",
    "import seaborn as sns\n",
    "import sklearn as sk"
   ]
  },
  {
   "cell_type": "code",
   "execution_count": null,
   "metadata": {},
   "outputs": [
    {
     "data": {
      "text/plain": [
       "Index(['Diabetes_binary', 'HighBP', 'HighChol', 'CholCheck', 'BMI', 'Smoker',\n",
       "       'Stroke', 'HeartDiseaseorAttack', 'PhysActivity', 'Fruits', 'Veggies',\n",
       "       'HvyAlcoholConsump', 'AnyHealthcare', 'NoDocbcCost', 'GenHlth',\n",
       "       'MentHlth', 'PhysHlth', 'DiffWalk', 'Sex', 'Age', 'Education',\n",
       "       'Income'],\n",
       "      dtype='object')"
      ]
     },
     "execution_count": 4,
     "metadata": {},
     "output_type": "execute_result"
    }
   ],
   "source": [
    "df = pd.read_csv(\"Datasets/diabetes_binary_health_indicators_BRFSS2015.csv\")\n",
    "df.columns"
   ]
  },
  {
   "cell_type": "code",
   "execution_count": 6,
   "metadata": {},
   "outputs": [],
   "source": [
    "def draw_hist(dataframe):\n",
    "    for column in dataframe.columns:\n",
    "        print(column)\n",
    "        plt.figure()\n",
    "        dataframe[column].hist()\n",
    "\n",
    "        plt.xlabel(column)\n",
    "        plt.ylabel('Frequency')\n",
    "        plt.title(f\"Distribution of {column}\")\n",
    "        plt.show()"
   ]
  },
  {
   "cell_type": "code",
   "execution_count": 5,
   "metadata": {},
   "outputs": [
    {
     "name": "stdout",
     "output_type": "stream",
     "text": [
      "<class 'pandas.core.frame.DataFrame'>\n",
      "RangeIndex: 253680 entries, 0 to 253679\n",
      "Data columns (total 22 columns):\n",
      " #   Column                Non-Null Count   Dtype  \n",
      "---  ------                --------------   -----  \n",
      " 0   Diabetes_binary       253680 non-null  float64\n",
      " 1   HighBP                253680 non-null  float64\n",
      " 2   HighChol              253680 non-null  float64\n",
      " 3   CholCheck             253680 non-null  float64\n",
      " 4   BMI                   253680 non-null  float64\n",
      " 5   Smoker                253680 non-null  float64\n",
      " 6   Stroke                253680 non-null  float64\n",
      " 7   HeartDiseaseorAttack  253680 non-null  float64\n",
      " 8   PhysActivity          253680 non-null  float64\n",
      " 9   Fruits                253680 non-null  float64\n",
      " 10  Veggies               253680 non-null  float64\n",
      " 11  HvyAlcoholConsump     253680 non-null  float64\n",
      " 12  AnyHealthcare         253680 non-null  float64\n",
      " 13  NoDocbcCost           253680 non-null  float64\n",
      " 14  GenHlth               253680 non-null  float64\n",
      " 15  MentHlth              253680 non-null  float64\n",
      " 16  PhysHlth              253680 non-null  float64\n",
      " 17  DiffWalk              253680 non-null  float64\n",
      " 18  Sex                   253680 non-null  float64\n",
      " 19  Age                   253680 non-null  float64\n",
      " 20  Education             253680 non-null  float64\n",
      " 21  Income                253680 non-null  float64\n",
      "dtypes: float64(22)None\n",
      "Null values = False\n",
      "(253680, 22)\n"
     ]
    }
   ],
   "source": [
    "print(df.info(verbose=True,memory_usage=False))\n",
    "print(\"Null values =\",df.isnull().values.any())\n",
    "print(df.shape)"
   ]
  },
  {
   "cell_type": "code",
   "execution_count": 7,
   "metadata": {},
   "outputs": [
    {
     "name": "stdout",
     "output_type": "stream",
     "text": [
      "       Diabetes_binary         HighBP       HighChol      CholCheck  \\\n",
      "count    253680.000000  253680.000000  253680.000000  253680.000000   \n",
      "mean          0.139333       0.429001       0.424121       0.962670   \n",
      "std           0.346294       0.494934       0.494210       0.189571   \n",
      "min           0.000000       0.000000       0.000000       0.000000   \n",
      "25%           0.000000       0.000000       0.000000       1.000000   \n",
      "50%           0.000000       0.000000       0.000000       1.000000   \n",
      "75%           0.000000       1.000000       1.000000       1.000000   \n",
      "max           1.000000       1.000000       1.000000       1.000000   \n",
      "\n",
      "                 BMI         Smoker         Stroke  HeartDiseaseorAttack  \\\n",
      "count  253680.000000  253680.000000  253680.000000         253680.000000   \n",
      "mean       28.382364       0.443169       0.040571              0.094186   \n",
      "std         6.608694       0.496761       0.197294              0.292087   \n",
      "min        12.000000       0.000000       0.000000              0.000000   \n",
      "25%        24.000000       0.000000       0.000000              0.000000   \n",
      "50%        27.000000       0.000000       0.000000              0.000000   \n",
      "75%        31.000000       1.000000       0.000000              0.000000   \n",
      "max        98.000000       1.000000       1.000000              1.000000   \n",
      "\n",
      "        PhysActivity         Fruits  ...  AnyHealthcare    NoDocbcCost  \\\n",
      "count  253680.000000  253680.000000  ...  253680.000000  253680.000000   \n",
      "mean        0.756544       0.634256  ...       0.951053       0.084177   \n",
      "std         0.429169       0.481639  ...       0.215759       0.277654   \n",
      "min         0.000000       0.000000  ...       0.000000       0.000000   \n",
      "25%         1.000000       0.000000  ...       1.000000       0.000000   \n",
      "50%         1.000000       1.000000  ...       1.000000       0.000000   \n",
      "75%         1.000000       1.000000  ...       1.000000       0.000000   \n",
      "max         1.000000       1.000000  ...       1.000000       1.000000   \n",
      "\n",
      "             GenHlth       MentHlth       PhysHlth       DiffWalk  \\\n",
      "count  253680.000000  253680.000000  253680.000000  253680.000000   \n",
      "mean        2.511392       3.184772       4.242081       0.168224   \n",
      "std         1.068477       7.412847       8.717951       0.374066   \n",
      "min         1.000000       0.000000       0.000000       0.000000   \n",
      "25%         2.000000       0.000000       0.000000       0.000000   \n",
      "50%         2.000000       0.000000       0.000000       0.000000   \n",
      "75%         3.000000       2.000000       3.000000       0.000000   \n",
      "max         5.000000      30.000000      30.000000       1.000000   \n",
      "\n",
      "                 Sex            Age      Education         Income  \n",
      "count  253680.000000  253680.000000  253680.000000  253680.000000  \n",
      "mean        0.440342       8.032119       5.050434       6.053875  \n",
      "std         0.496429       3.054220       0.985774       2.071148  \n",
      "min         0.000000       1.000000       1.000000       1.000000  \n",
      "25%         0.000000       6.000000       4.000000       5.000000  \n",
      "50%         0.000000       8.000000       5.000000       7.000000  \n",
      "75%         1.000000      10.000000       6.000000       8.000000  \n",
      "max         1.000000      13.000000       6.000000       8.000000  \n",
      "\n",
      "[8 rows x 22 columns]\n"
     ]
    }
   ],
   "source": [
    "print(df.describe())"
   ]
  },
  {
   "cell_type": "code",
   "execution_count": 8,
   "metadata": {},
   "outputs": [
    {
     "name": "stdout",
     "output_type": "stream",
     "text": [
      "   Diabetes_binary  HighBP  HighChol  CholCheck   BMI  Smoker  Stroke  \\\n",
      "0              0.0     1.0       1.0        1.0  40.0     1.0     0.0   \n",
      "1              0.0     0.0       0.0        0.0  25.0     1.0     0.0   \n",
      "2              0.0     1.0       1.0        1.0  28.0     0.0     0.0   \n",
      "3              0.0     1.0       0.0        1.0  27.0     0.0     0.0   \n",
      "4              0.0     1.0       1.0        1.0  24.0     0.0     0.0   \n",
      "\n",
      "   HeartDiseaseorAttack  PhysActivity  Fruits  ...  AnyHealthcare  \\\n",
      "0                   0.0           0.0     0.0  ...            1.0   \n",
      "1                   0.0           1.0     0.0  ...            0.0   \n",
      "2                   0.0           0.0     1.0  ...            1.0   \n",
      "3                   0.0           1.0     1.0  ...            1.0   \n",
      "4                   0.0           1.0     1.0  ...            1.0   \n",
      "\n",
      "   NoDocbcCost  GenHlth  MentHlth  PhysHlth  DiffWalk  Sex   Age  Education  \\\n",
      "0          0.0      5.0      18.0      15.0       1.0  0.0   9.0        4.0   \n",
      "1          1.0      3.0       0.0       0.0       0.0  0.0   7.0        6.0   \n",
      "2          1.0      5.0      30.0      30.0       1.0  0.0   9.0        4.0   \n",
      "3          0.0      2.0       0.0       0.0       0.0  0.0  11.0        3.0   \n",
      "4          0.0      2.0       3.0       0.0       0.0  0.0  11.0        5.0   \n",
      "\n",
      "   Income  \n",
      "0     3.0  \n",
      "1     1.0  \n",
      "2     8.0  \n",
      "3     6.0  \n",
      "4     4.0  \n",
      "\n",
      "[5 rows x 22 columns]\n",
      "        Diabetes_binary  HighBP  HighChol  CholCheck   BMI  Smoker  Stroke  \\\n",
      "253675              0.0     1.0       1.0        1.0  45.0     0.0     0.0   \n",
      "253676              1.0     1.0       1.0        1.0  18.0     0.0     0.0   \n",
      "253677              0.0     0.0       0.0        1.0  28.0     0.0     0.0   \n",
      "253678              0.0     1.0       0.0        1.0  23.0     0.0     0.0   \n",
      "253679              1.0     1.0       1.0        1.0  25.0     0.0     0.0   \n",
      "\n",
      "        HeartDiseaseorAttack  PhysActivity  Fruits  ...  AnyHealthcare  \\\n",
      "253675                   0.0           0.0     1.0  ...            1.0   \n",
      "253676                   0.0           0.0     0.0  ...            1.0   \n",
      "253677                   0.0           1.0     1.0  ...            1.0   \n",
      "253678                   0.0           0.0     1.0  ...            1.0   \n",
      "253679                   1.0           1.0     1.0  ...            1.0   \n",
      "\n",
      "        NoDocbcCost  GenHlth  MentHlth  PhysHlth  DiffWalk  Sex   Age  \\\n",
      "253675          0.0      3.0       0.0       5.0       0.0  1.0   5.0   \n",
      "253676          0.0      4.0       0.0       0.0       1.0  0.0  11.0   \n",
      "253677          0.0      1.0       0.0       0.0       0.0  0.0   2.0   \n",
      "253678          0.0      3.0       0.0       0.0       0.0  1.0   7.0   \n",
      "253679          0.0      2.0       0.0       0.0       0.0  0.0   9.0   \n",
      "\n",
      "        Education  Income  \n",
      "253675        6.0     7.0  \n",
      "253676        2.0     4.0  \n",
      "253677        5.0     2.0  \n",
      "253678        5.0     1.0  \n",
      "253679        6.0     2.0  \n",
      "\n",
      "[5 rows x 22 columns]\n"
     ]
    }
   ],
   "source": [
    "print(df.head())\n",
    "print(df.tail())"
   ]
  },
  {
   "cell_type": "code",
   "execution_count": 10,
   "metadata": {},
   "outputs": [
    {
     "name": "stderr",
     "output_type": "stream",
     "text": [
      "Locator attempting to generate 4588 ticks ([-50.0, ..., 229300.0]), which exceeds Locator.MAXTICKS (1000).\n"
     ]
    },
    {
     "name": "stdout",
     "output_type": "stream",
     "text": [
      "[35346, 218334]\n"
     ]
    },
    {
     "name": "stderr",
     "output_type": "stream",
     "text": [
      "Locator attempting to generate 4588 ticks ([-50.0, ..., 229300.0]), which exceeds Locator.MAXTICKS (1000).\n",
      "Locator attempting to generate 4588 ticks ([-50.0, ..., 229300.0]), which exceeds Locator.MAXTICKS (1000).\n",
      "Locator attempting to generate 4588 ticks ([-50.0, ..., 229300.0]), which exceeds Locator.MAXTICKS (1000).\n",
      "Locator attempting to generate 4588 ticks ([-50.0, ..., 229300.0]), which exceeds Locator.MAXTICKS (1000).\n",
      "Locator attempting to generate 4588 ticks ([-50.0, ..., 229300.0]), which exceeds Locator.MAXTICKS (1000).\n",
      "Locator attempting to generate 4588 ticks ([-50.0, ..., 229300.0]), which exceeds Locator.MAXTICKS (1000).\n",
      "Locator attempting to generate 4588 ticks ([-50.0, ..., 229300.0]), which exceeds Locator.MAXTICKS (1000).\n",
      "Locator attempting to generate 4588 ticks ([-50.0, ..., 229300.0]), which exceeds Locator.MAXTICKS (1000).\n",
      "Locator attempting to generate 4588 ticks ([-50.0, ..., 229300.0]), which exceeds Locator.MAXTICKS (1000).\n",
      "Locator attempting to generate 4588 ticks ([-50.0, ..., 229300.0]), which exceeds Locator.MAXTICKS (1000).\n",
      "Locator attempting to generate 4588 ticks ([-50.0, ..., 229300.0]), which exceeds Locator.MAXTICKS (1000).\n",
      "Locator attempting to generate 4588 ticks ([-50.0, ..., 229300.0]), which exceeds Locator.MAXTICKS (1000).\n",
      "Locator attempting to generate 4588 ticks ([-50.0, ..., 229300.0]), which exceeds Locator.MAXTICKS (1000).\n",
      "Locator attempting to generate 4588 ticks ([-50.0, ..., 229300.0]), which exceeds Locator.MAXTICKS (1000).\n",
      "Locator attempting to generate 4588 ticks ([-50.0, ..., 229300.0]), which exceeds Locator.MAXTICKS (1000).\n",
      "Locator attempting to generate 4588 ticks ([-50.0, ..., 229300.0]), which exceeds Locator.MAXTICKS (1000).\n",
      "Locator attempting to generate 4588 ticks ([-50.0, ..., 229300.0]), which exceeds Locator.MAXTICKS (1000).\n",
      "Locator attempting to generate 4588 ticks ([-50.0, ..., 229300.0]), which exceeds Locator.MAXTICKS (1000).\n",
      "Locator attempting to generate 4588 ticks ([-50.0, ..., 229300.0]), which exceeds Locator.MAXTICKS (1000).\n",
      "Locator attempting to generate 4588 ticks ([-50.0, ..., 229300.0]), which exceeds Locator.MAXTICKS (1000).\n",
      "Locator attempting to generate 4588 ticks ([-50.0, ..., 229300.0]), which exceeds Locator.MAXTICKS (1000).\n",
      "Locator attempting to generate 4588 ticks ([-50.0, ..., 229300.0]), which exceeds Locator.MAXTICKS (1000).\n",
      "Locator attempting to generate 4588 ticks ([-50.0, ..., 229300.0]), which exceeds Locator.MAXTICKS (1000).\n",
      "Locator attempting to generate 4588 ticks ([-50.0, ..., 229300.0]), which exceeds Locator.MAXTICKS (1000).\n",
      "Locator attempting to generate 4588 ticks ([-50.0, ..., 229300.0]), which exceeds Locator.MAXTICKS (1000).\n",
      "Locator attempting to generate 4588 ticks ([-50.0, ..., 229300.0]), which exceeds Locator.MAXTICKS (1000).\n",
      "Locator attempting to generate 4588 ticks ([-50.0, ..., 229300.0]), which exceeds Locator.MAXTICKS (1000).\n",
      "Locator attempting to generate 4588 ticks ([-50.0, ..., 229300.0]), which exceeds Locator.MAXTICKS (1000).\n",
      "Locator attempting to generate 4588 ticks ([-50.0, ..., 229300.0]), which exceeds Locator.MAXTICKS (1000).\n",
      "Locator attempting to generate 4588 ticks ([-50.0, ..., 229300.0]), which exceeds Locator.MAXTICKS (1000).\n",
      "Locator attempting to generate 4588 ticks ([-50.0, ..., 229300.0]), which exceeds Locator.MAXTICKS (1000).\n",
      "Locator attempting to generate 4588 ticks ([-50.0, ..., 229300.0]), which exceeds Locator.MAXTICKS (1000).\n",
      "Locator attempting to generate 4588 ticks ([-50.0, ..., 229300.0]), which exceeds Locator.MAXTICKS (1000).\n",
      "Locator attempting to generate 4588 ticks ([-50.0, ..., 229300.0]), which exceeds Locator.MAXTICKS (1000).\n",
      "Locator attempting to generate 4588 ticks ([-50.0, ..., 229300.0]), which exceeds Locator.MAXTICKS (1000).\n",
      "Locator attempting to generate 4588 ticks ([-50.0, ..., 229300.0]), which exceeds Locator.MAXTICKS (1000).\n",
      "Locator attempting to generate 4588 ticks ([-50.0, ..., 229300.0]), which exceeds Locator.MAXTICKS (1000).\n",
      "Locator attempting to generate 4588 ticks ([-50.0, ..., 229300.0]), which exceeds Locator.MAXTICKS (1000).\n",
      "Locator attempting to generate 4588 ticks ([-50.0, ..., 229300.0]), which exceeds Locator.MAXTICKS (1000).\n",
      "Locator attempting to generate 4588 ticks ([-50.0, ..., 229300.0]), which exceeds Locator.MAXTICKS (1000).\n",
      "Locator attempting to generate 4588 ticks ([-50.0, ..., 229300.0]), which exceeds Locator.MAXTICKS (1000).\n",
      "Locator attempting to generate 4588 ticks ([-50.0, ..., 229300.0]), which exceeds Locator.MAXTICKS (1000).\n",
      "Locator attempting to generate 4588 ticks ([-50.0, ..., 229300.0]), which exceeds Locator.MAXTICKS (1000).\n",
      "Locator attempting to generate 4588 ticks ([-50.0, ..., 229300.0]), which exceeds Locator.MAXTICKS (1000).\n",
      "Locator attempting to generate 4588 ticks ([-50.0, ..., 229300.0]), which exceeds Locator.MAXTICKS (1000).\n",
      "Locator attempting to generate 4588 ticks ([-50.0, ..., 229300.0]), which exceeds Locator.MAXTICKS (1000).\n",
      "Locator attempting to generate 4588 ticks ([-50.0, ..., 229300.0]), which exceeds Locator.MAXTICKS (1000).\n",
      "Locator attempting to generate 4588 ticks ([-50.0, ..., 229300.0]), which exceeds Locator.MAXTICKS (1000).\n",
      "Locator attempting to generate 4588 ticks ([-50.0, ..., 229300.0]), which exceeds Locator.MAXTICKS (1000).\n",
      "Locator attempting to generate 4588 ticks ([-50.0, ..., 229300.0]), which exceeds Locator.MAXTICKS (1000).\n",
      "Locator attempting to generate 4588 ticks ([-50.0, ..., 229300.0]), which exceeds Locator.MAXTICKS (1000).\n",
      "Locator attempting to generate 4588 ticks ([-50.0, ..., 229300.0]), which exceeds Locator.MAXTICKS (1000).\n",
      "Locator attempting to generate 4588 ticks ([-50.0, ..., 229300.0]), which exceeds Locator.MAXTICKS (1000).\n",
      "Locator attempting to generate 4588 ticks ([-50.0, ..., 229300.0]), which exceeds Locator.MAXTICKS (1000).\n",
      "Locator attempting to generate 4588 ticks ([-50.0, ..., 229300.0]), which exceeds Locator.MAXTICKS (1000).\n",
      "Locator attempting to generate 4588 ticks ([-50.0, ..., 229300.0]), which exceeds Locator.MAXTICKS (1000).\n",
      "Locator attempting to generate 4588 ticks ([-50.0, ..., 229300.0]), which exceeds Locator.MAXTICKS (1000).\n",
      "Locator attempting to generate 4588 ticks ([-50.0, ..., 229300.0]), which exceeds Locator.MAXTICKS (1000).\n",
      "Locator attempting to generate 4588 ticks ([-50.0, ..., 229300.0]), which exceeds Locator.MAXTICKS (1000).\n"
     ]
    },
    {
     "data": {
      "image/png": "[encoded data removed]",
      "text/plain": [
       "<Figure size 640x480 with 1 Axes>"
      ]
     },
     "metadata": {},
     "output_type": "display_data"
    }
   ],
   "source": [
    "\n",
    "outcomes = (\"Diabetic\",\"Healthy\")\n",
    "outcome_counts = [len(df.loc[df['Diabetes_binary']==1]), len(df.loc[df['Diabetes_binary']==0])]\n",
    "print(outcome_counts)\n",
    "# display as a graph\n",
    "\n",
    "colours=['tab:red', 'tab:blue']\n",
    "\n",
    "fig, ax = plt.subplots()\n",
    "\n",
    "ax.bar(outcomes, outcome_counts, color=colours)\n",
    "\n",
    "ax.set_ylabel(\"Count of people\")\n",
    "ax.set_xlabel(\"Diagnosis\")\n",
    "ax.yaxis.set_major_locator(ticker.MultipleLocator(base=50)) # Y axis increments at 50 \n",
    "plt.title('Count of diagnosis in the dataset')\n",
    "plt.grid()\n",
    "plt.show()"
   ]
  }
 ],
 "metadata": {
  "kernelspec": {
   "display_name": "Python 3",
   "language": "python",
   "name": "python3"
  },
  "language_info": {
   "codemirror_mode": {
    "name": "ipython",
    "version": 3
   },
   "file_extension": ".py",
   "mimetype": "text/x-python",
   "name": "python",
   "nbconvert_exporter": "python",
   "pygments_lexer": "ipython3",
   "version": "3.9.13"
  }
 },
 "nbformat": 4,
 "nbformat_minor": 2
}
